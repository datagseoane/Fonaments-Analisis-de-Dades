{
 "cells": [
  {
   "cell_type": "markdown",
   "metadata": {},
   "source": [
    "## Tasca S3 T03"
   ]
  },
  {
   "cell_type": "code",
   "execution_count": 3,
   "metadata": {},
   "outputs": [],
   "source": [
    "import pandas as pd"
   ]
  },
  {
   "cell_type": "code",
   "execution_count": 4,
   "metadata": {},
   "outputs": [],
   "source": [
    "df = pd.read_csv(\"dataset/OpenDataBcn.csv\")"
   ]
  },
  {
   "cell_type": "code",
   "execution_count": 5,
   "metadata": {},
   "outputs": [
    {
     "data": {
      "text/plain": [
       "(25873, 9)"
      ]
     },
     "execution_count": 5,
     "metadata": {},
     "output_type": "execute_result"
    }
   ],
   "source": [
    "df.shape"
   ]
  },
  {
   "cell_type": "markdown",
   "metadata": {},
   "source": [
    "### Exercici 1"
   ]
  },
  {
   "cell_type": "code",
   "execution_count": 9,
   "metadata": {
    "scrolled": true
   },
   "outputs": [
    {
     "data": {
      "text/html": [
       "<div>\n",
       "<style scoped>\n",
       "    .dataframe tbody tr th:only-of-type {\n",
       "        vertical-align: middle;\n",
       "    }\n",
       "\n",
       "    .dataframe tbody tr th {\n",
       "        vertical-align: top;\n",
       "    }\n",
       "\n",
       "    .dataframe thead th {\n",
       "        text-align: right;\n",
       "    }\n",
       "</style>\n",
       "<table border=\"1\" class=\"dataframe\">\n",
       "  <thead>\n",
       "    <tr style=\"text-align: right;\">\n",
       "      <th></th>\n",
       "      <th>Any</th>\n",
       "      <th>Codi_districte</th>\n",
       "      <th>Nom_districte</th>\n",
       "      <th>Codi_barri</th>\n",
       "      <th>Nom_barri</th>\n",
       "      <th>Seccio_censal</th>\n",
       "      <th>Desc_us_desti_principal</th>\n",
       "      <th>Concepte</th>\n",
       "      <th>Nombre</th>\n",
       "    </tr>\n",
       "  </thead>\n",
       "  <tbody>\n",
       "    <tr>\n",
       "      <th>0</th>\n",
       "      <td>2022</td>\n",
       "      <td>1</td>\n",
       "      <td>Ciutat Vella</td>\n",
       "      <td>1</td>\n",
       "      <td>el Raval</td>\n",
       "      <td>1</td>\n",
       "      <td>Habitatge</td>\n",
       "      <td>Valor_€</td>\n",
       "      <td>66331900.15</td>\n",
       "    </tr>\n",
       "    <tr>\n",
       "      <th>1</th>\n",
       "      <td>2022</td>\n",
       "      <td>1</td>\n",
       "      <td>Ciutat Vella</td>\n",
       "      <td>1</td>\n",
       "      <td>el Raval</td>\n",
       "      <td>1</td>\n",
       "      <td>Aparcaments</td>\n",
       "      <td>Valor_€</td>\n",
       "      <td>2085314.09</td>\n",
       "    </tr>\n",
       "    <tr>\n",
       "      <th>2</th>\n",
       "      <td>2022</td>\n",
       "      <td>1</td>\n",
       "      <td>Ciutat Vella</td>\n",
       "      <td>1</td>\n",
       "      <td>el Raval</td>\n",
       "      <td>1</td>\n",
       "      <td>Comerç</td>\n",
       "      <td>Valor_€</td>\n",
       "      <td>11754825.21</td>\n",
       "    </tr>\n",
       "    <tr>\n",
       "      <th>3</th>\n",
       "      <td>2022</td>\n",
       "      <td>1</td>\n",
       "      <td>Ciutat Vella</td>\n",
       "      <td>1</td>\n",
       "      <td>el Raval</td>\n",
       "      <td>1</td>\n",
       "      <td>Magatzem</td>\n",
       "      <td>Valor_€</td>\n",
       "      <td>8153377.19</td>\n",
       "    </tr>\n",
       "    <tr>\n",
       "      <th>4</th>\n",
       "      <td>2022</td>\n",
       "      <td>1</td>\n",
       "      <td>Ciutat Vella</td>\n",
       "      <td>1</td>\n",
       "      <td>el Raval</td>\n",
       "      <td>1</td>\n",
       "      <td>Oficina</td>\n",
       "      <td>Valor_€</td>\n",
       "      <td>18875939.45</td>\n",
       "    </tr>\n",
       "    <tr>\n",
       "      <th>5</th>\n",
       "      <td>2022</td>\n",
       "      <td>1</td>\n",
       "      <td>Ciutat Vella</td>\n",
       "      <td>1</td>\n",
       "      <td>el Raval</td>\n",
       "      <td>1</td>\n",
       "      <td>Turisme i hostaleria</td>\n",
       "      <td>Valor_€</td>\n",
       "      <td>4892522.16</td>\n",
       "    </tr>\n",
       "    <tr>\n",
       "      <th>6</th>\n",
       "      <td>2022</td>\n",
       "      <td>1</td>\n",
       "      <td>Ciutat Vella</td>\n",
       "      <td>1</td>\n",
       "      <td>el Raval</td>\n",
       "      <td>1</td>\n",
       "      <td>Ensenyament i cultura</td>\n",
       "      <td>Valor_€</td>\n",
       "      <td>24542663.44</td>\n",
       "    </tr>\n",
       "    <tr>\n",
       "      <th>7</th>\n",
       "      <td>2022</td>\n",
       "      <td>1</td>\n",
       "      <td>Ciutat Vella</td>\n",
       "      <td>1</td>\n",
       "      <td>el Raval</td>\n",
       "      <td>1</td>\n",
       "      <td>Sanitat</td>\n",
       "      <td>Valor_€</td>\n",
       "      <td>3702630.96</td>\n",
       "    </tr>\n",
       "    <tr>\n",
       "      <th>8</th>\n",
       "      <td>2022</td>\n",
       "      <td>1</td>\n",
       "      <td>Ciutat Vella</td>\n",
       "      <td>1</td>\n",
       "      <td>el Raval</td>\n",
       "      <td>1</td>\n",
       "      <td>Religiós</td>\n",
       "      <td>Valor_€</td>\n",
       "      <td>976395.84</td>\n",
       "    </tr>\n",
       "    <tr>\n",
       "      <th>9</th>\n",
       "      <td>2022</td>\n",
       "      <td>1</td>\n",
       "      <td>Ciutat Vella</td>\n",
       "      <td>1</td>\n",
       "      <td>el Raval</td>\n",
       "      <td>1</td>\n",
       "      <td>Adm.Pública</td>\n",
       "      <td>Valor_€</td>\n",
       "      <td>9485613.64</td>\n",
       "    </tr>\n",
       "    <tr>\n",
       "      <th>10</th>\n",
       "      <td>2022</td>\n",
       "      <td>1</td>\n",
       "      <td>Ciutat Vella</td>\n",
       "      <td>1</td>\n",
       "      <td>el Raval</td>\n",
       "      <td>1</td>\n",
       "      <td>Espectacles</td>\n",
       "      <td>Valor_€</td>\n",
       "      <td>379007.09</td>\n",
       "    </tr>\n",
       "    <tr>\n",
       "      <th>11</th>\n",
       "      <td>2022</td>\n",
       "      <td>1</td>\n",
       "      <td>Ciutat Vella</td>\n",
       "      <td>1</td>\n",
       "      <td>el Raval</td>\n",
       "      <td>2</td>\n",
       "      <td>Habitatge</td>\n",
       "      <td>Valor_€</td>\n",
       "      <td>52258919.83</td>\n",
       "    </tr>\n",
       "    <tr>\n",
       "      <th>12</th>\n",
       "      <td>2022</td>\n",
       "      <td>1</td>\n",
       "      <td>Ciutat Vella</td>\n",
       "      <td>1</td>\n",
       "      <td>el Raval</td>\n",
       "      <td>2</td>\n",
       "      <td>Aparcaments</td>\n",
       "      <td>Valor_€</td>\n",
       "      <td>980732.84</td>\n",
       "    </tr>\n",
       "    <tr>\n",
       "      <th>13</th>\n",
       "      <td>2022</td>\n",
       "      <td>1</td>\n",
       "      <td>Ciutat Vella</td>\n",
       "      <td>1</td>\n",
       "      <td>el Raval</td>\n",
       "      <td>2</td>\n",
       "      <td>Comerç</td>\n",
       "      <td>Valor_€</td>\n",
       "      <td>7393670.63</td>\n",
       "    </tr>\n",
       "    <tr>\n",
       "      <th>14</th>\n",
       "      <td>2022</td>\n",
       "      <td>1</td>\n",
       "      <td>Ciutat Vella</td>\n",
       "      <td>1</td>\n",
       "      <td>el Raval</td>\n",
       "      <td>2</td>\n",
       "      <td>Magatzem</td>\n",
       "      <td>Valor_€</td>\n",
       "      <td>4301539.70</td>\n",
       "    </tr>\n",
       "    <tr>\n",
       "      <th>15</th>\n",
       "      <td>2022</td>\n",
       "      <td>1</td>\n",
       "      <td>Ciutat Vella</td>\n",
       "      <td>1</td>\n",
       "      <td>el Raval</td>\n",
       "      <td>2</td>\n",
       "      <td>Oficina</td>\n",
       "      <td>Valor_€</td>\n",
       "      <td>682258.77</td>\n",
       "    </tr>\n",
       "    <tr>\n",
       "      <th>16</th>\n",
       "      <td>2022</td>\n",
       "      <td>1</td>\n",
       "      <td>Ciutat Vella</td>\n",
       "      <td>1</td>\n",
       "      <td>el Raval</td>\n",
       "      <td>2</td>\n",
       "      <td>Turisme i hostaleria</td>\n",
       "      <td>Valor_€</td>\n",
       "      <td>19219143.44</td>\n",
       "    </tr>\n",
       "    <tr>\n",
       "      <th>17</th>\n",
       "      <td>2022</td>\n",
       "      <td>1</td>\n",
       "      <td>Ciutat Vella</td>\n",
       "      <td>1</td>\n",
       "      <td>el Raval</td>\n",
       "      <td>2</td>\n",
       "      <td>Ensenyament i cultura</td>\n",
       "      <td>Valor_€</td>\n",
       "      <td>7860726.51</td>\n",
       "    </tr>\n",
       "    <tr>\n",
       "      <th>18</th>\n",
       "      <td>2022</td>\n",
       "      <td>1</td>\n",
       "      <td>Ciutat Vella</td>\n",
       "      <td>1</td>\n",
       "      <td>el Raval</td>\n",
       "      <td>2</td>\n",
       "      <td>Esportiu</td>\n",
       "      <td>Valor_€</td>\n",
       "      <td>2089744.07</td>\n",
       "    </tr>\n",
       "    <tr>\n",
       "      <th>19</th>\n",
       "      <td>2022</td>\n",
       "      <td>1</td>\n",
       "      <td>Ciutat Vella</td>\n",
       "      <td>1</td>\n",
       "      <td>el Raval</td>\n",
       "      <td>2</td>\n",
       "      <td>Espectacles</td>\n",
       "      <td>Valor_€</td>\n",
       "      <td>6251614.32</td>\n",
       "    </tr>\n",
       "  </tbody>\n",
       "</table>\n",
       "</div>"
      ],
      "text/plain": [
       "     Any  Codi_districte Nom_districte  Codi_barri Nom_barri  Seccio_censal  \\\n",
       "0   2022               1  Ciutat Vella           1  el Raval              1   \n",
       "1   2022               1  Ciutat Vella           1  el Raval              1   \n",
       "2   2022               1  Ciutat Vella           1  el Raval              1   \n",
       "3   2022               1  Ciutat Vella           1  el Raval              1   \n",
       "4   2022               1  Ciutat Vella           1  el Raval              1   \n",
       "5   2022               1  Ciutat Vella           1  el Raval              1   \n",
       "6   2022               1  Ciutat Vella           1  el Raval              1   \n",
       "7   2022               1  Ciutat Vella           1  el Raval              1   \n",
       "8   2022               1  Ciutat Vella           1  el Raval              1   \n",
       "9   2022               1  Ciutat Vella           1  el Raval              1   \n",
       "10  2022               1  Ciutat Vella           1  el Raval              1   \n",
       "11  2022               1  Ciutat Vella           1  el Raval              2   \n",
       "12  2022               1  Ciutat Vella           1  el Raval              2   \n",
       "13  2022               1  Ciutat Vella           1  el Raval              2   \n",
       "14  2022               1  Ciutat Vella           1  el Raval              2   \n",
       "15  2022               1  Ciutat Vella           1  el Raval              2   \n",
       "16  2022               1  Ciutat Vella           1  el Raval              2   \n",
       "17  2022               1  Ciutat Vella           1  el Raval              2   \n",
       "18  2022               1  Ciutat Vella           1  el Raval              2   \n",
       "19  2022               1  Ciutat Vella           1  el Raval              2   \n",
       "\n",
       "   Desc_us_desti_principal Concepte       Nombre  \n",
       "0                Habitatge  Valor_€  66331900.15  \n",
       "1              Aparcaments  Valor_€   2085314.09  \n",
       "2                   Comerç  Valor_€  11754825.21  \n",
       "3                 Magatzem  Valor_€   8153377.19  \n",
       "4                  Oficina  Valor_€  18875939.45  \n",
       "5     Turisme i hostaleria  Valor_€   4892522.16  \n",
       "6    Ensenyament i cultura  Valor_€  24542663.44  \n",
       "7                  Sanitat  Valor_€   3702630.96  \n",
       "8                 Religiós  Valor_€    976395.84  \n",
       "9              Adm.Pública  Valor_€   9485613.64  \n",
       "10             Espectacles  Valor_€    379007.09  \n",
       "11               Habitatge  Valor_€  52258919.83  \n",
       "12             Aparcaments  Valor_€    980732.84  \n",
       "13                  Comerç  Valor_€   7393670.63  \n",
       "14                Magatzem  Valor_€   4301539.70  \n",
       "15                 Oficina  Valor_€    682258.77  \n",
       "16    Turisme i hostaleria  Valor_€  19219143.44  \n",
       "17   Ensenyament i cultura  Valor_€   7860726.51  \n",
       "18                Esportiu  Valor_€   2089744.07  \n",
       "19             Espectacles  Valor_€   6251614.32  "
      ]
     },
     "execution_count": 9,
     "metadata": {},
     "output_type": "execute_result"
    }
   ],
   "source": [
    "df.head(20)"
   ]
  },
  {
   "cell_type": "markdown",
   "metadata": {},
   "source": [
    "### Exercici 2"
   ]
  },
  {
   "cell_type": "code",
   "execution_count": 10,
   "metadata": {},
   "outputs": [
    {
     "data": {
      "text/plain": [
       "Index(['Any', 'Codi_districte', 'Nom_districte', 'Codi_barri', 'Nom_barri',\n",
       "       'Seccio_censal', 'Desc_us_desti_principal', 'Concepte', 'Nombre'],\n",
       "      dtype='object')"
      ]
     },
     "execution_count": 10,
     "metadata": {},
     "output_type": "execute_result"
    }
   ],
   "source": [
    "df.columns"
   ]
  },
  {
   "cell_type": "markdown",
   "metadata": {},
   "source": [
    "### Exercici 3"
   ]
  },
  {
   "cell_type": "code",
   "execution_count": 8,
   "metadata": {},
   "outputs": [
    {
     "data": {
      "text/plain": [
       "array(['Habitatge', 'Aparcaments', 'Comerç', 'Magatzem', 'Oficina',\n",
       "       'Turisme i hostaleria', 'Ensenyament i cultura', 'Sanitat',\n",
       "       'Religiós', 'Adm.Pública', 'Espectacles', 'Esportiu',\n",
       "       'Sòl sense edificar', 'Altres', 'Indústria'], dtype=object)"
      ]
     },
     "execution_count": 8,
     "metadata": {},
     "output_type": "execute_result"
    }
   ],
   "source": [
    "df.Desc_us_desti_principal.unique()"
   ]
  }
 ],
 "metadata": {
  "kernelspec": {
   "display_name": "Python 3 (ipykernel)",
   "language": "python",
   "name": "python3"
  },
  "language_info": {
   "codemirror_mode": {
    "name": "ipython",
    "version": 3
   },
   "file_extension": ".py",
   "mimetype": "text/x-python",
   "name": "python",
   "nbconvert_exporter": "python",
   "pygments_lexer": "ipython3",
   "version": "3.9.12"
  },
  "toc": {
   "base_numbering": 1,
   "nav_menu": {},
   "number_sections": true,
   "sideBar": true,
   "skip_h1_title": true,
   "title_cell": "Table of Contents",
   "title_sidebar": "Contents",
   "toc_cell": true,
   "toc_position": {
    "height": "calc(100% - 180px)",
    "left": "10px",
    "top": "150px",
    "width": "190px"
   },
   "toc_section_display": true,
   "toc_window_display": true
  },
  "varInspector": {
   "cols": {
    "lenName": 16,
    "lenType": 16,
    "lenVar": 40
   },
   "kernels_config": {
    "python": {
     "delete_cmd_postfix": "",
     "delete_cmd_prefix": "del ",
     "library": "var_list.py",
     "varRefreshCmd": "print(var_dic_list())"
    },
    "r": {
     "delete_cmd_postfix": ") ",
     "delete_cmd_prefix": "rm(",
     "library": "var_list.r",
     "varRefreshCmd": "cat(var_dic_list()) "
    }
   },
   "types_to_exclude": [
    "module",
    "function",
    "builtin_function_or_method",
    "instance",
    "_Feature"
   ],
   "window_display": false
  }
 },
 "nbformat": 4,
 "nbformat_minor": 2
}
